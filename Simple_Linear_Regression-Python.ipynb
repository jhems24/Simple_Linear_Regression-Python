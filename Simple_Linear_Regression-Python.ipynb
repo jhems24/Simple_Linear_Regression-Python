{
 "cells": [
  {
   "cell_type": "markdown",
   "id": "a5b4cdca",
   "metadata": {
    "id": "a5b4cdca"
   },
   "source": [
    "## Simple Linear Regression Ex 1: Swedish Car Insurance\n",
    "\n",
    "In this exercise we will build a simple linear regression model using the number of car insurance claims in  predicting the amount paid out from the number of Swedish car insurance claims."
   ]
  },
  {
   "cell_type": "code",
   "execution_count": 3,
   "id": "5392e30d",
   "metadata": {
    "id": "5392e30d"
   },
   "outputs": [],
   "source": [
    "import pandas as pd\n",
    "import matplotlib.pyplot as plot\n",
    "import statsmodels.api as stats\n",
    "import numpy as np"
   ]
  },
  {
   "cell_type": "markdown",
   "id": "6023dc59",
   "metadata": {
    "id": "6023dc59"
   },
   "source": [
    "### Loading Our Data"
   ]
  },
  {
   "cell_type": "code",
   "execution_count": 4,
   "id": "25f41739",
   "metadata": {
    "id": "25f41739"
   },
   "outputs": [],
   "source": [
    "insurance_df = pd.read_csv('auto_insurance_sweden.csv')"
   ]
  },
  {
   "cell_type": "markdown",
   "id": "4caf6908",
   "metadata": {
    "id": "4caf6908"
   },
   "source": [
    "### Assessing the Data"
   ]
  },
  {
   "cell_type": "code",
   "execution_count": 6,
   "id": "4a587c25",
   "metadata": {
    "id": "4a587c25",
    "outputId": "cb48b7c0-d7f1-4c8f-92b8-97036cce5e9c"
   },
   "outputs": [
    {
     "data": {
      "text/plain": [
       "(63, 2)"
      ]
     },
     "execution_count": 6,
     "metadata": {},
     "output_type": "execute_result"
    }
   ],
   "source": [
    "insurance_df.shape"
   ]
  },
  {
   "cell_type": "code",
   "execution_count": 5,
   "id": "33ba634f",
   "metadata": {
    "id": "33ba634f",
    "outputId": "c9590a10-9aa1-4a1d-e01d-8965909cadcc"
   },
   "outputs": [
    {
     "data": {
      "text/html": [
       "<div>\n",
       "<style scoped>\n",
       "    .dataframe tbody tr th:only-of-type {\n",
       "        vertical-align: middle;\n",
       "    }\n",
       "\n",
       "    .dataframe tbody tr th {\n",
       "        vertical-align: top;\n",
       "    }\n",
       "\n",
       "    .dataframe thead th {\n",
       "        text-align: right;\n",
       "    }\n",
       "</style>\n",
       "<table border=\"1\" class=\"dataframe\">\n",
       "  <thead>\n",
       "    <tr style=\"text-align: right;\">\n",
       "      <th></th>\n",
       "      <th>claims</th>\n",
       "      <th>payment</th>\n",
       "    </tr>\n",
       "  </thead>\n",
       "  <tbody>\n",
       "    <tr>\n",
       "      <th>0</th>\n",
       "      <td>108</td>\n",
       "      <td>392.5</td>\n",
       "    </tr>\n",
       "    <tr>\n",
       "      <th>1</th>\n",
       "      <td>19</td>\n",
       "      <td>46.2</td>\n",
       "    </tr>\n",
       "    <tr>\n",
       "      <th>2</th>\n",
       "      <td>13</td>\n",
       "      <td>15.7</td>\n",
       "    </tr>\n",
       "    <tr>\n",
       "      <th>3</th>\n",
       "      <td>124</td>\n",
       "      <td>422.2</td>\n",
       "    </tr>\n",
       "    <tr>\n",
       "      <th>4</th>\n",
       "      <td>40</td>\n",
       "      <td>119.4</td>\n",
       "    </tr>\n",
       "  </tbody>\n",
       "</table>\n",
       "</div>"
      ],
      "text/plain": [
       "   claims  payment\n",
       "0     108    392.5\n",
       "1      19     46.2\n",
       "2      13     15.7\n",
       "3     124    422.2\n",
       "4      40    119.4"
      ]
     },
     "execution_count": 5,
     "metadata": {},
     "output_type": "execute_result"
    }
   ],
   "source": [
    "insurance_df.head()"
   ]
  },
  {
   "cell_type": "markdown",
   "id": "a5d981b4",
   "metadata": {
    "id": "a5d981b4"
   },
   "source": [
    "### Visualisation of the Data"
   ]
  },
  {
   "cell_type": "code",
   "execution_count": 8,
   "id": "bc73e19f",
   "metadata": {
    "id": "bc73e19f",
    "outputId": "4e24d3b1-d093-4d0c-c2d7-af549c7dba77"
   },
   "outputs": [
    {
     "data": {
      "image/png": "[encoded data removed]",
      "text/plain": [
       "<Figure size 640x480 with 1 Axes>"
      ]
     },
     "metadata": {},
     "output_type": "display_data"
    }
   ],
   "source": [
    "plot.scatter(insurance_df.claims, insurance_df.payment)\n",
    "plot.xlabel('Claims')\n",
    "plot.ylabel('Payment [100k Kroner]')\n",
    "plot.show()"
   ]
  },
  {
   "cell_type": "markdown",
   "id": "877d0832",
   "metadata": {
    "id": "877d0832"
   },
   "source": [
    "### Fitting the Linear Regression Model"
   ]
  },
  {
   "cell_type": "code",
   "execution_count": 13,
   "id": "4eb037bc",
   "metadata": {
    "id": "4eb037bc"
   },
   "outputs": [],
   "source": [
    "Y_insurance = insurance_df.payment\n",
    "\n",
    "#using the stats.add.constact() function to force the model to have a value for the intercept.\n",
    "X_insurance = stats.add_constant(insurance_df['claims'])"
   ]
  },
  {
   "cell_type": "code",
   "execution_count": 14,
   "id": "4f699e78",
   "metadata": {
    "id": "4f699e78"
   },
   "outputs": [],
   "source": [
    "#Created an instance of the model using stats.OLS\n",
    "model_insurance = stats.OLS(Y_insurance, X_insurance)\n",
    "results_insurance = model_insurance.fit()"
   ]
  },
  {
   "cell_type": "code",
   "execution_count": 11,
   "id": "493b4d5e",
   "metadata": {
    "id": "493b4d5e",
    "outputId": "89c35b80-8c87-4a2c-cfa5-4db2059b0e4c"
   },
   "outputs": [
    {
     "name": "stdout",
     "output_type": "stream",
     "text": [
      "                            OLS Regression Results                            \n",
      "==============================================================================\n",
      "Dep. Variable:                payment   R-squared:                       0.833\n",
      "Model:                            OLS   Adj. R-squared:                  0.831\n",
      "Method:                 Least Squares   F-statistic:                     305.0\n",
      "Date:                Sat, 28 Jan 2023   Prob (F-statistic):           2.05e-25\n",
      "Time:                        16:21:09   Log-Likelihood:                -314.04\n",
      "No. Observations:                  63   AIC:                             632.1\n",
      "Df Residuals:                      61   BIC:                             636.4\n",
      "Df Model:                           1                                         \n",
      "Covariance Type:            nonrobust                                         \n",
      "==============================================================================\n",
      "                 coef    std err          t      P>|t|      [0.025      0.975]\n",
      "------------------------------------------------------------------------------\n",
      "const         19.9945      6.368      3.140      0.003       7.261      32.728\n",
      "claims         3.4138      0.195     17.465      0.000       3.023       3.805\n",
      "==============================================================================\n",
      "Omnibus:                        1.613   Durbin-Watson:                   1.199\n",
      "Prob(Omnibus):                  0.446   Jarque-Bera (JB):                1.429\n",
      "Skew:                           0.364   Prob(JB):                        0.489\n",
      "Kurtosis:                       2.875   Cond. No.                         45.8\n",
      "==============================================================================\n",
      "\n",
      "Notes:\n",
      "[1] Standard Errors assume that the covariance matrix of the errors is correctly specified.\n"
     ]
    }
   ],
   "source": [
    "print(results_insurance.summary())"
   ]
  },
  {
   "cell_type": "markdown",
   "id": "WPdprCetvtj6",
   "metadata": {
    "id": "WPdprCetvtj6"
   },
   "source": [
    "### Viewing Line Parameters"
   ]
  },
  {
   "cell_type": "code",
   "execution_count": 12,
   "id": "564cd330",
   "metadata": {
    "id": "564cd330",
    "outputId": "d7f958f3-ddcc-4b98-8428-9e21bf0e8cfe"
   },
   "outputs": [
    {
     "name": "stdout",
     "output_type": "stream",
     "text": [
      "The intercept value is 19.994\n",
      "The coefficient (slope) for the claims independent variable is 3.414\n",
      "The sum of square residuals is 78796.7\n"
     ]
    }
   ],
   "source": [
    "#extracing specifically values of theta-0 and theta-1 from results above using params\n",
    "intercept_insurance = results_insurance.params[0]\n",
    "claims_coeff = results_insurance.params[1]\n",
    "ssr_insurance = results_insurance.ssr\n",
    "\n",
    "print('The intercept value is {:.3f}'.format(intercept_insurance))\n",
    "print('The coefficient (slope) for the claims independent variable is {:.3f}'.format(claims_coeff))\n",
    "print('The sum of square residuals is {:.1f}'.format(ssr_insurance))"
   ]
  },
  {
   "cell_type": "markdown",
   "id": "08c0d815",
   "metadata": {
    "id": "08c0d815"
   },
   "source": [
    "### Plotting Results"
   ]
  },
  {
   "cell_type": "code",
   "execution_count": null,
   "id": "53a57419",
   "metadata": {
    "id": "53a57419",
    "outputId": "adffc6cd-52cf-4c97-f80b-9738e689beac"
   },
   "outputs": [
    {
     "data": {
      "image/png": "[encoded data removed]",
      "text/plain": [
       "<Figure size 432x288 with 1 Axes>"
      ]
     },
     "metadata": {
      "needs_background": "light"
     },
     "output_type": "display_data"
    }
   ],
   "source": [
    "#Prep training observations\n",
    "plot.scatter(insurance_df.claims, insurance_df.payment, label='Observed')\n",
    "\n",
    "#Prep line of best fit\n",
    "plot.plot(x_synthetic, y_pred_insurance, color='k', ls='--', label='Model')\n",
    "x_synthetic = np.linspace(0,insurance_df.claims.max(), 50)\n",
    "y_pred_insurance = claims_coeff*x_synthetic + intercept_insurance\n",
    "\n",
    "#plot combined chart\n",
    "plot.xlabel('Claims')\n",
    "plot.ylabel('Payment [100k Kroner]')\n",
    "plot.legend()\n",
    "plot.show()"
   ]
  }
 ],
 "metadata": {
  "colab": {
   "name": "Copy of SimpleLinearRegression-Python-Ex1 Consolidated.ipynb",
   "provenance": []
  },
  "kernelspec": {
   "display_name": "Python 3 (ipykernel)",
   "language": "python",
   "name": "python3"
  },
  "language_info": {
   "codemirror_mode": {
    "name": "ipython",
    "version": 3
   },
   "file_extension": ".py",
   "mimetype": "text/x-python",
   "name": "python",
   "nbconvert_exporter": "python",
   "pygments_lexer": "ipython3",
   "version": "3.9.13"
  }
 },
 "nbformat": 4,
 "nbformat_minor": 5
}
